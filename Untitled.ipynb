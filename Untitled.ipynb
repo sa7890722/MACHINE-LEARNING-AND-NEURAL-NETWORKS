{
 "cells": [
  {
   "cell_type": "code",
   "execution_count": 302,
   "metadata": {},
   "outputs": [
    {
     "data": {
      "text/plain": [
       "'1.14.0'"
      ]
     },
     "execution_count": 302,
     "metadata": {},
     "output_type": "execute_result"
    }
   ],
   "source": [
    "import warnings\n",
    "warnings.filterwarnings('ignore')\n",
    "\n",
    "import tensorflow as tf\n",
    "\n",
    "tf.__version__"
   ]
  },
  {
   "cell_type": "code",
   "execution_count": 303,
   "metadata": {},
   "outputs": [],
   "source": [
    "mnist = tf.keras.datasets.mnist"
   ]
  },
  {
   "cell_type": "code",
   "execution_count": 304,
   "metadata": {},
   "outputs": [],
   "source": [
    "(X_train, y_train), (X_test, y_test) = mnist.load_data()"
   ]
  },
  {
   "cell_type": "code",
   "execution_count": 305,
   "metadata": {},
   "outputs": [],
   "source": [
    "import matplotlib.pyplot as plt"
   ]
  },
  {
   "cell_type": "code",
   "execution_count": 306,
   "metadata": {},
   "outputs": [
    {
     "data": {
      "text/plain": [
       "<matplotlib.image.AxesImage at 0x7f2e9ccb1890>"
      ]
     },
     "execution_count": 306,
     "metadata": {},
     "output_type": "execute_result"
    },
    {
     "data": {
      "image/png": "[encoded data removed]",
      "text/plain": [
       "<Figure size 432x288 with 1 Axes>"
      ]
     },
     "metadata": {
      "needs_background": "light"
     },
     "output_type": "display_data"
    }
   ],
   "source": [
    "plt.imshow(X_train[0], cmap = 'gray')"
   ]
  },
  {
   "cell_type": "code",
   "execution_count": 307,
   "metadata": {},
   "outputs": [
    {
     "name": "stdout",
     "output_type": "stream",
     "text": [
      "[[  0   0   0   0   0   0   0   0   0   0   0   0   0   0   0   0   0   0\n",
      "    0   0   0   0   0   0   0   0   0   0]\n",
      " [  0   0   0   0   0   0   0   0   0   0   0   0   0   0   0   0   0   0\n",
      "    0   0   0   0   0   0   0   0   0   0]\n",
      " [  0   0   0   0   0   0   0   0   0   0   0   0   0   0   0   0   0   0\n",
      "    0   0   0   0   0   0   0   0   0   0]\n",
      " [  0   0   0   0   0   0   0   0   0   0   0   0   0   0   0   0   0   0\n",
      "    0   0   0   0   0   0   0   0   0   0]\n",
      " [  0   0   0   0   0   0   0   0   0   0   0   0   0   0   0   0   0   0\n",
      "    0   0   0   0   0   0   0   0   0   0]\n",
      " [  0   0   0   0   0   0   0   0   0   0   0   0   3  18  18  18 126 136\n",
      "  175  26 166 255 247 127   0   0   0   0]\n",
      " [  0   0   0   0   0   0   0   0  30  36  94 154 170 253 253 253 253 253\n",
      "  225 172 253 242 195  64   0   0   0   0]\n",
      " [  0   0   0   0   0   0   0  49 238 253 253 253 253 253 253 253 253 251\n",
      "   93  82  82  56  39   0   0   0   0   0]\n",
      " [  0   0   0   0   0   0   0  18 219 253 253 253 253 253 198 182 247 241\n",
      "    0   0   0   0   0   0   0   0   0   0]\n",
      " [  0   0   0   0   0   0   0   0  80 156 107 253 253 205  11   0  43 154\n",
      "    0   0   0   0   0   0   0   0   0   0]\n",
      " [  0   0   0   0   0   0   0   0   0  14   1 154 253  90   0   0   0   0\n",
      "    0   0   0   0   0   0   0   0   0   0]\n",
      " [  0   0   0   0   0   0   0   0   0   0   0 139 253 190   2   0   0   0\n",
      "    0   0   0   0   0   0   0   0   0   0]\n",
      " [  0   0   0   0   0   0   0   0   0   0   0  11 190 253  70   0   0   0\n",
      "    0   0   0   0   0   0   0   0   0   0]\n",
      " [  0   0   0   0   0   0   0   0   0   0   0   0  35 241 225 160 108   1\n",
      "    0   0   0   0   0   0   0   0   0   0]\n",
      " [  0   0   0   0   0   0   0   0   0   0   0   0   0  81 240 253 253 119\n",
      "   25   0   0   0   0   0   0   0   0   0]\n",
      " [  0   0   0   0   0   0   0   0   0   0   0   0   0   0  45 186 253 253\n",
      "  150  27   0   0   0   0   0   0   0   0]\n",
      " [  0   0   0   0   0   0   0   0   0   0   0   0   0   0   0  16  93 252\n",
      "  253 187   0   0   0   0   0   0   0   0]\n",
      " [  0   0   0   0   0   0   0   0   0   0   0   0   0   0   0   0   0 249\n",
      "  253 249  64   0   0   0   0   0   0   0]\n",
      " [  0   0   0   0   0   0   0   0   0   0   0   0   0   0  46 130 183 253\n",
      "  253 207   2   0   0   0   0   0   0   0]\n",
      " [  0   0   0   0   0   0   0   0   0   0   0   0  39 148 229 253 253 253\n",
      "  250 182   0   0   0   0   0   0   0   0]\n",
      " [  0   0   0   0   0   0   0   0   0   0  24 114 221 253 253 253 253 201\n",
      "   78   0   0   0   0   0   0   0   0   0]\n",
      " [  0   0   0   0   0   0   0   0  23  66 213 253 253 253 253 198  81   2\n",
      "    0   0   0   0   0   0   0   0   0   0]\n",
      " [  0   0   0   0   0   0  18 171 219 253 253 253 253 195  80   9   0   0\n",
      "    0   0   0   0   0   0   0   0   0   0]\n",
      " [  0   0   0   0  55 172 226 253 253 253 253 244 133  11   0   0   0   0\n",
      "    0   0   0   0   0   0   0   0   0   0]\n",
      " [  0   0   0   0 136 253 253 253 212 135 132  16   0   0   0   0   0   0\n",
      "    0   0   0   0   0   0   0   0   0   0]\n",
      " [  0   0   0   0   0   0   0   0   0   0   0   0   0   0   0   0   0   0\n",
      "    0   0   0   0   0   0   0   0   0   0]\n",
      " [  0   0   0   0   0   0   0   0   0   0   0   0   0   0   0   0   0   0\n",
      "    0   0   0   0   0   0   0   0   0   0]\n",
      " [  0   0   0   0   0   0   0   0   0   0   0   0   0   0   0   0   0   0\n",
      "    0   0   0   0   0   0   0   0   0   0]]\n"
     ]
    }
   ],
   "source": [
    "print(X_train[0])"
   ]
  },
  {
   "cell_type": "code",
   "execution_count": 308,
   "metadata": {},
   "outputs": [],
   "source": [
    "#NORMALIZATION"
   ]
  },
  {
   "cell_type": "code",
   "execution_count": 309,
   "metadata": {},
   "outputs": [],
   "source": [
    "X_train = tf.keras.utils.normalize(X_train, axis = 1)\n",
    "X_test = tf.keras.utils.normalize(X_test, axis = 1)"
   ]
  },
  {
   "cell_type": "code",
   "execution_count": 310,
   "metadata": {},
   "outputs": [
    {
     "name": "stdout",
     "output_type": "stream",
     "text": [
      "[[0.         0.         0.         0.         0.         0.\n",
      "  0.         0.         0.         0.         0.         0.\n",
      "  0.         0.         0.         0.         0.         0.\n",
      "  0.         0.         0.         0.         0.         0.\n",
      "  0.         0.         0.         0.        ]\n",
      " [0.         0.         0.         0.         0.         0.\n",
      "  0.         0.         0.         0.         0.         0.\n",
      "  0.         0.         0.         0.         0.         0.\n",
      "  0.         0.         0.         0.         0.         0.\n",
      "  0.         0.         0.         0.        ]\n",
      " [0.         0.         0.         0.         0.         0.\n",
      "  0.         0.         0.         0.         0.         0.\n",
      "  0.         0.         0.         0.         0.         0.\n",
      "  0.         0.         0.         0.         0.         0.\n",
      "  0.         0.         0.         0.        ]\n",
      " [0.         0.         0.         0.         0.         0.\n",
      "  0.         0.         0.         0.         0.         0.\n",
      "  0.         0.         0.         0.         0.         0.\n",
      "  0.         0.         0.         0.         0.         0.\n",
      "  0.         0.         0.         0.        ]\n",
      " [0.         0.         0.         0.         0.         0.\n",
      "  0.         0.         0.         0.         0.         0.\n",
      "  0.         0.         0.         0.         0.         0.\n",
      "  0.         0.         0.         0.         0.         0.\n",
      "  0.         0.         0.         0.        ]\n",
      " [0.         0.         0.         0.         0.         0.\n",
      "  0.         0.         0.         0.         0.         0.\n",
      "  0.00393124 0.02332955 0.02620568 0.02625207 0.17420356 0.17566281\n",
      "  0.28629534 0.05664824 0.51877786 0.71632322 0.77892406 0.89301644\n",
      "  0.         0.         0.         0.        ]\n",
      " [0.         0.         0.         0.         0.         0.\n",
      "  0.         0.         0.05780486 0.06524513 0.16128198 0.22713296\n",
      "  0.22277047 0.32790981 0.36833534 0.3689874  0.34978968 0.32678448\n",
      "  0.368094   0.3747499  0.79066747 0.67980478 0.61494005 0.45002403\n",
      "  0.         0.         0.         0.        ]\n",
      " [0.         0.         0.         0.         0.         0.\n",
      "  0.         0.12250613 0.45858525 0.45852825 0.43408872 0.37314701\n",
      "  0.33153488 0.32790981 0.36833534 0.3689874  0.34978968 0.32420121\n",
      "  0.15214552 0.17865984 0.25626376 0.1573102  0.12298801 0.\n",
      "  0.         0.         0.         0.        ]\n",
      " [0.         0.         0.         0.         0.         0.\n",
      "  0.         0.04500225 0.4219755  0.45852825 0.43408872 0.37314701\n",
      "  0.33153488 0.32790981 0.28826244 0.26543758 0.34149427 0.31128482\n",
      "  0.         0.         0.         0.         0.         0.\n",
      "  0.         0.         0.         0.        ]\n",
      " [0.         0.         0.         0.         0.         0.\n",
      "  0.         0.         0.1541463  0.28272888 0.18358693 0.37314701\n",
      "  0.33153488 0.26569767 0.01601458 0.         0.05945042 0.19891229\n",
      "  0.         0.         0.         0.         0.         0.\n",
      "  0.         0.         0.         0.        ]\n",
      " [0.         0.         0.         0.         0.         0.\n",
      "  0.         0.         0.         0.0253731  0.00171577 0.22713296\n",
      "  0.33153488 0.11664776 0.         0.         0.         0.\n",
      "  0.         0.         0.         0.         0.         0.\n",
      "  0.         0.         0.         0.        ]\n",
      " [0.         0.         0.         0.         0.         0.\n",
      "  0.         0.         0.         0.         0.         0.20500962\n",
      "  0.33153488 0.24625638 0.00291174 0.         0.         0.\n",
      "  0.         0.         0.         0.         0.         0.\n",
      "  0.         0.         0.         0.        ]\n",
      " [0.         0.         0.         0.         0.         0.\n",
      "  0.         0.         0.         0.         0.         0.01622378\n",
      "  0.24897876 0.32790981 0.10191096 0.         0.         0.\n",
      "  0.         0.         0.         0.         0.         0.\n",
      "  0.         0.         0.         0.        ]\n",
      " [0.         0.         0.         0.         0.         0.\n",
      "  0.         0.         0.         0.         0.         0.\n",
      "  0.04586451 0.31235677 0.32757096 0.23335172 0.14931733 0.00129164\n",
      "  0.         0.         0.         0.         0.         0.\n",
      "  0.         0.         0.         0.        ]\n",
      " [0.         0.         0.         0.         0.         0.\n",
      "  0.         0.         0.         0.         0.         0.\n",
      "  0.         0.10498298 0.34940902 0.3689874  0.34978968 0.15370495\n",
      "  0.04089933 0.         0.         0.         0.         0.\n",
      "  0.         0.         0.         0.        ]\n",
      " [0.         0.         0.         0.         0.         0.\n",
      "  0.         0.         0.         0.         0.         0.\n",
      "  0.         0.         0.06551419 0.27127137 0.34978968 0.32678448\n",
      "  0.245396   0.05882702 0.         0.         0.         0.\n",
      "  0.         0.         0.         0.        ]\n",
      " [0.         0.         0.         0.         0.         0.\n",
      "  0.         0.         0.         0.         0.         0.\n",
      "  0.         0.         0.         0.02333517 0.12857881 0.32549285\n",
      "  0.41390126 0.40743158 0.         0.         0.         0.\n",
      "  0.         0.         0.         0.        ]\n",
      " [0.         0.         0.         0.         0.         0.\n",
      "  0.         0.         0.         0.         0.         0.\n",
      "  0.         0.         0.         0.         0.         0.32161793\n",
      "  0.41390126 0.54251585 0.20001074 0.         0.         0.\n",
      "  0.         0.         0.         0.        ]\n",
      " [0.         0.         0.         0.         0.         0.\n",
      "  0.         0.         0.         0.         0.         0.\n",
      "  0.         0.         0.06697006 0.18959827 0.25300993 0.32678448\n",
      "  0.41390126 0.45100715 0.00625034 0.         0.         0.\n",
      "  0.         0.         0.         0.        ]\n",
      " [0.         0.         0.         0.         0.         0.\n",
      "  0.         0.         0.         0.         0.         0.\n",
      "  0.05110617 0.19182076 0.33339444 0.3689874  0.34978968 0.32678448\n",
      "  0.40899334 0.39653769 0.         0.         0.         0.\n",
      "  0.         0.         0.         0.        ]\n",
      " [0.         0.         0.         0.         0.         0.\n",
      "  0.         0.         0.         0.         0.04117838 0.16813739\n",
      "  0.28960162 0.32790981 0.36833534 0.3689874  0.34978968 0.25961929\n",
      "  0.12760592 0.         0.         0.         0.         0.\n",
      "  0.         0.         0.         0.        ]\n",
      " [0.         0.         0.         0.         0.         0.\n",
      "  0.         0.         0.04431706 0.11961607 0.36545809 0.37314701\n",
      "  0.33153488 0.32790981 0.36833534 0.28877275 0.111988   0.00258328\n",
      "  0.         0.         0.         0.         0.         0.\n",
      "  0.         0.         0.         0.        ]\n",
      " [0.         0.         0.         0.         0.         0.\n",
      "  0.05298497 0.42752138 0.4219755  0.45852825 0.43408872 0.37314701\n",
      "  0.33153488 0.25273681 0.11646967 0.01312603 0.         0.\n",
      "  0.         0.         0.         0.         0.         0.\n",
      "  0.         0.         0.         0.        ]\n",
      " [0.         0.         0.         0.         0.37491383 0.56222061\n",
      "  0.66525569 0.63253163 0.48748768 0.45852825 0.43408872 0.359873\n",
      "  0.17428513 0.01425695 0.         0.         0.         0.\n",
      "  0.         0.         0.         0.         0.         0.\n",
      "  0.         0.         0.         0.        ]\n",
      " [0.         0.         0.         0.         0.92705966 0.82698729\n",
      "  0.74473314 0.63253163 0.4084877  0.24466922 0.22648107 0.02359823\n",
      "  0.         0.         0.         0.         0.         0.\n",
      "  0.         0.         0.         0.         0.         0.\n",
      "  0.         0.         0.         0.        ]\n",
      " [0.         0.         0.         0.         0.         0.\n",
      "  0.         0.         0.         0.         0.         0.\n",
      "  0.         0.         0.         0.         0.         0.\n",
      "  0.         0.         0.         0.         0.         0.\n",
      "  0.         0.         0.         0.        ]\n",
      " [0.         0.         0.         0.         0.         0.\n",
      "  0.         0.         0.         0.         0.         0.\n",
      "  0.         0.         0.         0.         0.         0.\n",
      "  0.         0.         0.         0.         0.         0.\n",
      "  0.         0.         0.         0.        ]\n",
      " [0.         0.         0.         0.         0.         0.\n",
      "  0.         0.         0.         0.         0.         0.\n",
      "  0.         0.         0.         0.         0.         0.\n",
      "  0.         0.         0.         0.         0.         0.\n",
      "  0.         0.         0.         0.        ]]\n"
     ]
    }
   ],
   "source": [
    "print(X_train[0])"
   ]
  },
  {
   "cell_type": "code",
   "execution_count": 311,
   "metadata": {},
   "outputs": [
    {
     "data": {
      "text/plain": [
       "<matplotlib.image.AxesImage at 0x7f2e9cc4c590>"
      ]
     },
     "execution_count": 311,
     "metadata": {},
     "output_type": "execute_result"
    },
    {
     "data": {
      "image/png": "[encoded data removed]",
      "text/plain": [
       "<Figure size 432x288 with 1 Axes>"
      ]
     },
     "metadata": {
      "needs_background": "light"
     },
     "output_type": "display_data"
    }
   ],
   "source": [
    "plt.imshow(X_train[0], cmap = 'binary')"
   ]
  },
  {
   "cell_type": "code",
   "execution_count": 312,
   "metadata": {},
   "outputs": [],
   "source": [
    "model = tf.keras.models.Sequential()\n",
    "model.add(tf.keras.layers.Flatten(input_shape = (28, 28)))"
   ]
  },
  {
   "cell_type": "code",
   "execution_count": 313,
   "metadata": {},
   "outputs": [],
   "source": [
    "model.add(tf.keras.layers.Dense(128, activation = tf.nn.relu))\n",
    "model.add(tf.keras.layers.Dense(128, activation = tf.nn.relu))\n",
    "model.add(tf.keras.layers.Dense(10, activation = tf.nn.softmax))\n",
    "\n",
    "model.compile(optimizer = 'adam', loss = 'sparse_categorical_crossentropy',\n",
    "             metrics = ['accuracy'])"
   ]
  },
  {
   "cell_type": "code",
   "execution_count": 314,
   "metadata": {},
   "outputs": [
    {
     "name": "stdout",
     "output_type": "stream",
     "text": [
      "Epoch 1/4\n",
      "60000/60000 [==============================] - 4s 60us/sample - loss: 0.2598 - acc: 0.9239\n",
      "Epoch 2/4\n",
      "60000/60000 [==============================] - 3s 55us/sample - loss: 0.1064 - acc: 0.9683\n",
      "Epoch 3/4\n",
      "60000/60000 [==============================] - 3s 56us/sample - loss: 0.0720 - acc: 0.9769\n",
      "Epoch 4/4\n",
      "60000/60000 [==============================] - 3s 56us/sample - loss: 0.0531 - acc: 0.9830\n"
     ]
    },
    {
     "data": {
      "text/plain": [
       "<tensorflow.python.keras.callbacks.History at 0x7f2e9cc05ad0>"
      ]
     },
     "execution_count": 314,
     "metadata": {},
     "output_type": "execute_result"
    }
   ],
   "source": [
    "model.fit(X_train, y_train, epochs = 4)"
   ]
  },
  {
   "cell_type": "code",
   "execution_count": 315,
   "metadata": {},
   "outputs": [
    {
     "name": "stdout",
     "output_type": "stream",
     "text": [
      "10000/10000 [==============================] - 0s 31us/sample - loss: 0.0942 - acc: 0.9699\n"
     ]
    }
   ],
   "source": [
    "val_loss, val_acc = model.evaluate(X_test, y_test)"
   ]
  },
  {
   "cell_type": "code",
   "execution_count": 316,
   "metadata": {},
   "outputs": [],
   "source": [
    "model.save('epic_num_reader.model')"
   ]
  },
  {
   "cell_type": "code",
   "execution_count": 317,
   "metadata": {},
   "outputs": [
    {
     "name": "stdout",
     "output_type": "stream",
     "text": [
      " 1       \u001b[0m\u001b[01;35m4.xcf\u001b[0m        epic_num_reader.model       'State Bank of India2340.pdf'\r\n",
      " 2       \u001b[01;35m5.png\u001b[0m        \u001b[01;34mMachine_Learning_Sections\u001b[0m/   Untitled1.ipynb\r\n",
      " 3       \u001b[01;35maomine.png\u001b[0m   \u001b[01;34mPetImages\u001b[0m/                   Untitled.ipynb\r\n",
      " \u001b[01;35m4.png\u001b[0m   \u001b[01;35mAOMINE.png\u001b[0m   resume.pdf\r\n"
     ]
    }
   ],
   "source": [
    "ls"
   ]
  },
  {
   "cell_type": "code",
   "execution_count": 318,
   "metadata": {},
   "outputs": [],
   "source": [
    "new_model = tf.keras.models.load_model('/home/abhishek/Desktop/epic_num_reader.model')"
   ]
  },
  {
   "cell_type": "code",
   "execution_count": 319,
   "metadata": {},
   "outputs": [],
   "source": [
    "import numpy as np\n",
    "prediction = new_model.predict(np.array((X_test)))"
   ]
  },
  {
   "cell_type": "code",
   "execution_count": 320,
   "metadata": {},
   "outputs": [
    {
     "name": "stdout",
     "output_type": "stream",
     "text": [
      "[[2.11471313e-10 7.84750132e-09 3.17747458e-06 ... 9.99988556e-01\n",
      "  1.66727032e-09 4.35498357e-08]\n",
      " [4.74646678e-09 1.13927439e-04 9.99883294e-01 ... 6.70022648e-11\n",
      "  2.75942327e-08 2.75969514e-13]\n",
      " [6.65170603e-08 9.99802649e-01 1.04224688e-04 ... 3.27997877e-05\n",
      "  3.45507979e-05 1.67511016e-09]\n",
      " ...\n",
      " [5.42266427e-08 1.17386355e-06 7.56711582e-09 ... 7.27665611e-05\n",
      "  1.43415525e-06 5.28561141e-05]\n",
      " [4.61494636e-07 1.39729535e-08 1.02730791e-09 ... 3.69535968e-07\n",
      "  3.00159154e-05 4.06400968e-10]\n",
      " [7.47097317e-08 1.04718701e-07 1.75115709e-08 ... 1.70059192e-11\n",
      "  4.85664220e-09 6.47014886e-09]]\n"
     ]
    }
   ],
   "source": [
    "print(prediction)"
   ]
  },
  {
   "cell_type": "code",
   "execution_count": 321,
   "metadata": {},
   "outputs": [
    {
     "name": "stdout",
     "output_type": "stream",
     "text": [
      "7\n"
     ]
    }
   ],
   "source": [
    "print(np.argmax(prediction[0]))"
   ]
  },
  {
   "cell_type": "code",
   "execution_count": 322,
   "metadata": {},
   "outputs": [
    {
     "data": {
      "text/plain": [
       "<matplotlib.image.AxesImage at 0x7f2e9c42bad0>"
      ]
     },
     "execution_count": 322,
     "metadata": {},
     "output_type": "execute_result"
    },
    {
     "data": {
      "image/png": "[encoded data removed]",
      "text/plain": [
       "<Figure size 432x288 with 1 Axes>"
      ]
     },
     "metadata": {
      "needs_background": "light"
     },
     "output_type": "display_data"
    }
   ],
   "source": [
    "plt.imshow(X_test[0])"
   ]
  },
  {
   "cell_type": "code",
   "execution_count": 323,
   "metadata": {},
   "outputs": [],
   "source": [
    "import cv2\n",
    "img = cv2.imread('/home/abhishek/Desktop/5.png', cv2.IMREAD_GRAYSCALE)"
   ]
  },
  {
   "cell_type": "code",
   "execution_count": 324,
   "metadata": {},
   "outputs": [
    {
     "data": {
      "text/plain": [
       "<matplotlib.image.AxesImage at 0x7f2e9c38f950>"
      ]
     },
     "execution_count": 324,
     "metadata": {},
     "output_type": "execute_result"
    },
    {
     "data": {
      "image/png": "[encoded data removed]",
      "text/plain": [
       "<Figure size 432x288 with 1 Axes>"
      ]
     },
     "metadata": {
      "needs_background": "light"
     },
     "output_type": "display_data"
    }
   ],
   "source": [
    "plt.imshow(img, cmap = 'binary')"
   ]
  },
  {
   "cell_type": "code",
   "execution_count": 341,
   "metadata": {},
   "outputs": [
    {
     "name": "stdout",
     "output_type": "stream",
     "text": [
      "(28, 28)\n"
     ]
    }
   ],
   "source": [
    "print(img.shape)"
   ]
  },
  {
   "cell_type": "code",
   "execution_count": 342,
   "metadata": {},
   "outputs": [],
   "source": [
    "img = cv2.resize(img, (28, 28))"
   ]
  },
  {
   "cell_type": "code",
   "execution_count": 343,
   "metadata": {},
   "outputs": [],
   "source": [
    "to_predict = []\n",
    "to_predict.append(img)\n",
    "to_predict = tf.keras.utils.normalize(to_predict, axis = 1)"
   ]
  },
  {
   "cell_type": "code",
   "execution_count": 345,
   "metadata": {},
   "outputs": [
    {
     "name": "stdout",
     "output_type": "stream",
     "text": [
      "[[0.18898224 0.18898224 0.18898224 0.18898224 0.18898224 0.18898224\n",
      "  0.18898224 0.18898224 0.18898224 0.20642685 0.19911803 0.19564272\n",
      "  0.19564272 0.19564272 0.19713744 0.23407443 0.19272141 0.18898224\n",
      "  0.18898224 0.18898224 0.18898224 0.18898224 0.18898224 0.18898224\n",
      "  0.18898224 0.18898224 0.18898224 0.18898224]\n",
      " [0.18898224 0.18898224 0.18898224 0.18898224 0.18898224 0.18898224\n",
      "  0.18898224 0.18898224 0.18898224 0.20642685 0.19911803 0.19564272\n",
      "  0.19564272 0.19564272 0.19713744 0.23407443 0.19272141 0.18898224\n",
      "  0.18898224 0.18898224 0.18898224 0.18898224 0.18898224 0.18898224\n",
      "  0.18898224 0.18898224 0.18898224 0.18898224]\n",
      " [0.18898224 0.18898224 0.18898224 0.18898224 0.18898224 0.18898224\n",
      "  0.18898224 0.18898224 0.18898224 0.20642685 0.19911803 0.19564272\n",
      "  0.19564272 0.19564272 0.19713744 0.23407443 0.19272141 0.18898224\n",
      "  0.18898224 0.18898224 0.18898224 0.18898224 0.18898224 0.18898224\n",
      "  0.18898224 0.18898224 0.18898224 0.18898224]\n",
      " [0.18898224 0.18898224 0.18898224 0.18898224 0.18898224 0.18898224\n",
      "  0.18898224 0.18898224 0.18898224 0.20642685 0.19911803 0.19564272\n",
      "  0.19564272 0.19564272 0.19713744 0.23407443 0.19272141 0.18898224\n",
      "  0.18898224 0.18898224 0.18898224 0.18898224 0.18898224 0.18898224\n",
      "  0.18898224 0.18898224 0.18898224 0.18898224]\n",
      " [0.18898224 0.18898224 0.18898224 0.18898224 0.18898224 0.18898224\n",
      "  0.18898224 0.18898224 0.18898224 0.20642685 0.19911803 0.19564272\n",
      "  0.19564272 0.19564272 0.19713744 0.23407443 0.19272141 0.18898224\n",
      "  0.18898224 0.18898224 0.18898224 0.18898224 0.18898224 0.18898224\n",
      "  0.18898224 0.18898224 0.18898224 0.18898224]\n",
      " [0.18898224 0.18898224 0.18898224 0.18898224 0.18898224 0.18898224\n",
      "  0.18898224 0.18898224 0.18898224 0.20642685 0.19911803 0.19564272\n",
      "  0.19564272 0.19564272 0.19713744 0.23407443 0.19272141 0.18898224\n",
      "  0.18898224 0.18898224 0.18898224 0.18898224 0.18898224 0.18898224\n",
      "  0.18898224 0.18898224 0.18898224 0.18898224]\n",
      " [0.18898224 0.18898224 0.18898224 0.18898224 0.18898224 0.18898224\n",
      "  0.18898224 0.18898224 0.18898224 0.20642685 0.04997472 0.04910249\n",
      "  0.04910249 0.04910249 0.15152525 0.23407443 0.19272141 0.18898224\n",
      "  0.18898224 0.18898224 0.18898224 0.18898224 0.18898224 0.18898224\n",
      "  0.18898224 0.18898224 0.18898224 0.18898224]\n",
      " [0.18898224 0.18898224 0.18898224 0.18898224 0.18898224 0.18898224\n",
      "  0.18898224 0.18898224 0.18898224 0.05504716 0.06168755 0.19564272\n",
      "  0.19564272 0.19564272 0.05488925 0.05874809 0.19272141 0.18898224\n",
      "  0.18898224 0.18898224 0.18898224 0.18898224 0.18898224 0.18898224\n",
      "  0.18898224 0.18898224 0.18898224 0.18898224]\n",
      " [0.18898224 0.18898224 0.18898224 0.18898224 0.18898224 0.18898224\n",
      "  0.18898224 0.18898224 0.18898224 0.05180909 0.19911803 0.19564272\n",
      "  0.19564272 0.19564272 0.19713744 0.05874809 0.19272141 0.18898224\n",
      "  0.18898224 0.18898224 0.18898224 0.18898224 0.18898224 0.18898224\n",
      "  0.18898224 0.18898224 0.18898224 0.18898224]\n",
      " [0.18898224 0.18898224 0.18898224 0.18898224 0.18898224 0.18898224\n",
      "  0.18898224 0.18898224 0.18898224 0.08499929 0.19911803 0.19564272\n",
      "  0.19564272 0.19564272 0.19713744 0.05874809 0.19272141 0.18898224\n",
      "  0.18898224 0.18898224 0.18898224 0.18898224 0.18898224 0.18898224\n",
      "  0.18898224 0.18898224 0.18898224 0.18898224]\n",
      " [0.18898224 0.18898224 0.18898224 0.18898224 0.18898224 0.18898224\n",
      "  0.18898224 0.18898224 0.18898224 0.06557088 0.19911803 0.19564272\n",
      "  0.19564272 0.19564272 0.19713744 0.05874809 0.19272141 0.18898224\n",
      "  0.18898224 0.18898224 0.18898224 0.18898224 0.18898224 0.18898224\n",
      "  0.18898224 0.18898224 0.18898224 0.18898224]\n",
      " [0.18898224 0.18898224 0.18898224 0.18898224 0.18898224 0.18898224\n",
      "  0.18898224 0.18898224 0.18898224 0.05180909 0.19911803 0.19564272\n",
      "  0.19564272 0.19564272 0.04947763 0.05874809 0.19272141 0.18898224\n",
      "  0.18898224 0.18898224 0.18898224 0.18898224 0.18898224 0.18898224\n",
      "  0.18898224 0.18898224 0.18898224 0.18898224]\n",
      " [0.18898224 0.18898224 0.18898224 0.18898224 0.18898224 0.18898224\n",
      "  0.18898224 0.18898224 0.18898224 0.20642685 0.04997472 0.04910249\n",
      "  0.04910249 0.04910249 0.19713744 0.05874809 0.19272141 0.18898224\n",
      "  0.18898224 0.18898224 0.18898224 0.18898224 0.18898224 0.18898224\n",
      "  0.18898224 0.18898224 0.18898224 0.18898224]\n",
      " [0.18898224 0.18898224 0.18898224 0.18898224 0.18898224 0.18898224\n",
      "  0.18898224 0.18898224 0.18898224 0.20642685 0.19911803 0.19564272\n",
      "  0.19564272 0.19564272 0.19713744 0.05874809 0.19272141 0.18898224\n",
      "  0.18898224 0.18898224 0.18898224 0.18898224 0.18898224 0.18898224\n",
      "  0.18898224 0.18898224 0.18898224 0.18898224]\n",
      " [0.18898224 0.18898224 0.18898224 0.18898224 0.18898224 0.18898224\n",
      "  0.18898224 0.18898224 0.18898224 0.20642685 0.19911803 0.19564272\n",
      "  0.19564272 0.19564272 0.19713744 0.05874809 0.19272141 0.18898224\n",
      "  0.18898224 0.18898224 0.18898224 0.18898224 0.18898224 0.18898224\n",
      "  0.18898224 0.18898224 0.18898224 0.18898224]\n",
      " [0.18898224 0.18898224 0.18898224 0.18898224 0.18898224 0.18898224\n",
      "  0.18898224 0.18898224 0.18898224 0.20642685 0.19911803 0.19564272\n",
      "  0.19564272 0.19564272 0.19713744 0.05874809 0.19272141 0.18898224\n",
      "  0.18898224 0.18898224 0.18898224 0.18898224 0.18898224 0.18898224\n",
      "  0.18898224 0.18898224 0.18898224 0.18898224]\n",
      " [0.18898224 0.18898224 0.18898224 0.18898224 0.18898224 0.18898224\n",
      "  0.18898224 0.18898224 0.18898224 0.20642685 0.19911803 0.19564272\n",
      "  0.19564272 0.19564272 0.19713744 0.05874809 0.19272141 0.18898224\n",
      "  0.18898224 0.18898224 0.18898224 0.18898224 0.18898224 0.18898224\n",
      "  0.18898224 0.18898224 0.18898224 0.18898224]\n",
      " [0.18898224 0.18898224 0.18898224 0.18898224 0.18898224 0.18898224\n",
      "  0.18898224 0.18898224 0.18898224 0.20642685 0.19911803 0.19564272\n",
      "  0.19564272 0.19564272 0.19713744 0.18450573 0.19272141 0.18898224\n",
      "  0.18898224 0.18898224 0.18898224 0.18898224 0.18898224 0.18898224\n",
      "  0.18898224 0.18898224 0.18898224 0.18898224]\n",
      " [0.18898224 0.18898224 0.18898224 0.18898224 0.18898224 0.18898224\n",
      "  0.18898224 0.18898224 0.18898224 0.20642685 0.19911803 0.19564272\n",
      "  0.19564272 0.19564272 0.19713744 0.23407443 0.17685024 0.18898224\n",
      "  0.18898224 0.18898224 0.18898224 0.18898224 0.18898224 0.18898224\n",
      "  0.18898224 0.18898224 0.18898224 0.18898224]\n",
      " [0.18898224 0.18898224 0.18898224 0.18898224 0.18898224 0.18898224\n",
      "  0.18898224 0.18898224 0.18898224 0.20642685 0.19911803 0.19564272\n",
      "  0.19564272 0.19564272 0.19713744 0.23407443 0.05517123 0.18898224\n",
      "  0.18898224 0.18898224 0.18898224 0.18898224 0.18898224 0.18898224\n",
      "  0.18898224 0.18898224 0.18898224 0.18898224]\n",
      " [0.18898224 0.18898224 0.18898224 0.18898224 0.18898224 0.18898224\n",
      "  0.18898224 0.18898224 0.18898224 0.20642685 0.19911803 0.19564272\n",
      "  0.19564272 0.19564272 0.19713744 0.23407443 0.19272141 0.18898224\n",
      "  0.18898224 0.18898224 0.18898224 0.18898224 0.18898224 0.18898224\n",
      "  0.18898224 0.18898224 0.18898224 0.18898224]\n",
      " [0.18898224 0.18898224 0.18898224 0.18898224 0.18898224 0.18898224\n",
      "  0.18898224 0.18898224 0.18898224 0.20642685 0.19911803 0.19564272\n",
      "  0.19564272 0.19564272 0.19713744 0.23407443 0.19272141 0.18898224\n",
      "  0.18898224 0.18898224 0.18898224 0.18898224 0.18898224 0.18898224\n",
      "  0.18898224 0.18898224 0.18898224 0.18898224]\n",
      " [0.18898224 0.18898224 0.18898224 0.18898224 0.18898224 0.18898224\n",
      "  0.18898224 0.18898224 0.18898224 0.20642685 0.19911803 0.19564272\n",
      "  0.19564272 0.19564272 0.19713744 0.23407443 0.19272141 0.18898224\n",
      "  0.18898224 0.18898224 0.18898224 0.18898224 0.18898224 0.18898224\n",
      "  0.18898224 0.18898224 0.18898224 0.18898224]\n",
      " [0.18898224 0.18898224 0.18898224 0.18898224 0.18898224 0.18898224\n",
      "  0.18898224 0.18898224 0.18898224 0.20642685 0.19911803 0.19564272\n",
      "  0.19564272 0.19564272 0.19713744 0.23407443 0.19272141 0.18898224\n",
      "  0.18898224 0.18898224 0.18898224 0.18898224 0.18898224 0.18898224\n",
      "  0.18898224 0.18898224 0.18898224 0.18898224]\n",
      " [0.18898224 0.18898224 0.18898224 0.18898224 0.18898224 0.18898224\n",
      "  0.18898224 0.18898224 0.18898224 0.20642685 0.19911803 0.19564272\n",
      "  0.19564272 0.19564272 0.19713744 0.23407443 0.19272141 0.18898224\n",
      "  0.18898224 0.18898224 0.18898224 0.18898224 0.18898224 0.18898224\n",
      "  0.18898224 0.18898224 0.18898224 0.18898224]\n",
      " [0.18898224 0.18898224 0.18898224 0.18898224 0.18898224 0.18898224\n",
      "  0.18898224 0.18898224 0.18898224 0.20642685 0.19911803 0.19564272\n",
      "  0.19564272 0.19564272 0.19713744 0.23407443 0.19272141 0.18898224\n",
      "  0.18898224 0.18898224 0.18898224 0.18898224 0.18898224 0.18898224\n",
      "  0.18898224 0.18898224 0.18898224 0.18898224]\n",
      " [0.18898224 0.18898224 0.18898224 0.18898224 0.18898224 0.18898224\n",
      "  0.18898224 0.18898224 0.18898224 0.20642685 0.19911803 0.19564272\n",
      "  0.19564272 0.19564272 0.19713744 0.23407443 0.19272141 0.18898224\n",
      "  0.18898224 0.18898224 0.18898224 0.18898224 0.18898224 0.18898224\n",
      "  0.18898224 0.18898224 0.18898224 0.18898224]\n",
      " [0.18898224 0.18898224 0.18898224 0.18898224 0.18898224 0.18898224\n",
      "  0.18898224 0.18898224 0.18898224 0.20642685 0.19911803 0.19564272\n",
      "  0.19564272 0.19564272 0.19713744 0.23407443 0.19272141 0.18898224\n",
      "  0.18898224 0.18898224 0.18898224 0.18898224 0.18898224 0.18898224\n",
      "  0.18898224 0.18898224 0.18898224 0.18898224]]\n"
     ]
    }
   ],
   "source": [
    "print(to_predict[0])"
   ]
  },
  {
   "cell_type": "code",
   "execution_count": 346,
   "metadata": {},
   "outputs": [
    {
     "data": {
      "text/plain": [
       "numpy.ndarray"
      ]
     },
     "execution_count": 346,
     "metadata": {},
     "output_type": "execute_result"
    }
   ],
   "source": [
    "type(img)"
   ]
  },
  {
   "cell_type": "code",
   "execution_count": 347,
   "metadata": {},
   "outputs": [],
   "source": [
    "predictions = model.predict(np.array(to_predict))"
   ]
  },
  {
   "cell_type": "code",
   "execution_count": 348,
   "metadata": {},
   "outputs": [
    {
     "name": "stdout",
     "output_type": "stream",
     "text": [
      "0\n",
      "[7.64942169e-01 1.11388246e-04 2.68093520e-03 1.67334266e-02\n",
      " 2.42877803e-07 2.10360088e-03 8.57810080e-02 4.94157212e-06\n",
      " 1.24981858e-01 2.66034715e-03]\n"
     ]
    },
    {
     "data": {
      "text/plain": [
       "<matplotlib.image.AxesImage at 0x7f2e9c0d44d0>"
      ]
     },
     "execution_count": 348,
     "metadata": {},
     "output_type": "execute_result"
    },
    {
     "data": {
      "image/png": "[encoded data removed]",
      "text/plain": [
       "<Figure size 432x288 with 1 Axes>"
      ]
     },
     "metadata": {
      "needs_background": "light"
     },
     "output_type": "display_data"
    }
   ],
   "source": [
    "print(np.argmax(predictions[0]))\n",
    "print(predictions[0])\n",
    "plt.imshow(to_predict[0])"
   ]
  },
  {
   "cell_type": "code",
   "execution_count": 349,
   "metadata": {},
   "outputs": [
    {
     "data": {
      "text/plain": [
       "<matplotlib.image.AxesImage at 0x7f2e9c040b50>"
      ]
     },
     "execution_count": 349,
     "metadata": {},
     "output_type": "execute_result"
    },
    {
     "data": {
      "image/png": "[encoded data removed]",
      "text/plain": [
       "<Figure size 432x288 with 1 Axes>"
      ]
     },
     "metadata": {
      "needs_background": "light"
     },
     "output_type": "display_data"
    }
   ],
   "source": [
    "plt.imshow(to_predict[0], cmap = 'binary')"
   ]
  },
  {
   "cell_type": "code",
   "execution_count": 340,
   "metadata": {},
   "outputs": [
    {
     "name": "stdout",
     "output_type": "stream",
     "text": [
      "9\n"
     ]
    },
    {
     "data": {
      "text/plain": [
       "<matplotlib.image.AxesImage at 0x7f2e9c177590>"
      ]
     },
     "execution_count": 340,
     "metadata": {},
     "output_type": "execute_result"
    },
    {
     "data": {
      "image/png": "[encoded data removed]",
      "text/plain": [
       "<Figure size 432x288 with 1 Axes>"
      ]
     },
     "metadata": {
      "needs_background": "light"
     },
     "output_type": "display_data"
    }
   ],
   "source": [
    "print(np.argmax(prediction[9]))\n",
    "plt.imshow(X_test[9])"
   ]
  },
  {
   "cell_type": "code",
   "execution_count": null,
   "metadata": {},
   "outputs": [],
   "source": []
  },
  {
   "cell_type": "code",
   "execution_count": null,
   "metadata": {},
   "outputs": [],
   "source": []
  }
 ],
 "metadata": {
  "kernelspec": {
   "display_name": "Python 3",
   "language": "python",
   "name": "python3"
  },
  "language_info": {
   "codemirror_mode": {
    "name": "ipython",
    "version": 3
   },
   "file_extension": ".py",
   "mimetype": "text/x-python",
   "name": "python",
   "nbconvert_exporter": "python",
   "pygments_lexer": "ipython3",
   "version": "3.7.5"
  }
 },
 "nbformat": 4,
 "nbformat_minor": 2
}
